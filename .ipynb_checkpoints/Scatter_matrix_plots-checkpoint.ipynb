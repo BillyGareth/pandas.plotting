{
 "cells": [
  {
   "cell_type": "code",
   "execution_count": 5,
   "metadata": {},
   "outputs": [],
   "source": [
    "from pandas.plotting import scatter_matrix\n",
    "import pandas as pd\n",
    "import numpy as np"
   ]
  },
  {
   "cell_type": "code",
   "execution_count": 6,
   "metadata": {},
   "outputs": [],
   "source": [
    "df=pd.DataFrame(np.random.rand(10,4),columns=list('QUAD'))"
   ]
  },
  {
   "cell_type": "code",
   "execution_count": 9,
   "metadata": {},
   "outputs": [
    {
     "data": {
      "text/plain": [
       "array([[<matplotlib.axes._subplots.AxesSubplot object at 0x000001762BC89DC8>,\n",
       "        <matplotlib.axes._subplots.AxesSubplot object at 0x000001762C04E3C8>,\n",
       "        <matplotlib.axes._subplots.AxesSubplot object at 0x000001762C08A188>,\n",
       "        <matplotlib.axes._subplots.AxesSubplot object at 0x000001762C0C1288>],\n",
       "       [<matplotlib.axes._subplots.AxesSubplot object at 0x000001762C0F8388>,\n",
       "        <matplotlib.axes._subplots.AxesSubplot object at 0x000001762C130488>,\n",
       "        <matplotlib.axes._subplots.AxesSubplot object at 0x000001762C16EFC8>,\n",
       "        <matplotlib.axes._subplots.AxesSubplot object at 0x000001762C1A06C8>],\n",
       "       [<matplotlib.axes._subplots.AxesSubplot object at 0x000001762C1AC2C8>,\n",
       "        <matplotlib.axes._subplots.AxesSubplot object at 0x000001762C1E6488>,\n",
       "        <matplotlib.axes._subplots.AxesSubplot object at 0x000001762C2479C8>,\n",
       "        <matplotlib.axes._subplots.AxesSubplot object at 0x000001762C280AC8>],\n",
       "       [<matplotlib.axes._subplots.AxesSubplot object at 0x000001762C2BABC8>,\n",
       "        <matplotlib.axes._subplots.AxesSubplot object at 0x000001762C2F1D08>,\n",
       "        <matplotlib.axes._subplots.AxesSubplot object at 0x000001762C32AD88>,\n",
       "        <matplotlib.axes._subplots.AxesSubplot object at 0x000001762C363E88>]],\n",
       "      dtype=object)"
      ]
     },
     "execution_count": 9,
     "metadata": {},
     "output_type": "execute_result"
    }
   ],
   "source": [
    "scatter_matrix(df,alpha=0.2,figsize=(6,6),diagonal='kde')"
   ]
  },
  {
   "cell_type": "code",
   "execution_count": 10,
   "metadata": {},
   "outputs": [
    {
     "data": {
      "text/plain": [
       "<matplotlib.axes._subplots.AxesSubplot at 0x1762e13a388>"
      ]
     },
     "execution_count": 10,
     "metadata": {},
     "output_type": "execute_result"
    },
    {
     "data": {
      "image/png": "[encoded data removed]",
      "text/plain": [
       "<Figure size 432x288 with 1 Axes>"
      ]
     },
     "metadata": {
      "needs_background": "light"
     },
     "output_type": "display_data"
    }
   ],
   "source": [
    "# kernel density plots\n",
    "series=pd.Series(np.random.randn(1000))\n",
    "series.plot.kde()"
   ]
  },
  {
   "cell_type": "code",
   "execution_count": null,
   "metadata": {},
   "outputs": [],
   "source": []
  }
 ],
 "metadata": {
  "kernelspec": {
   "display_name": "Python 3",
   "language": "python",
   "name": "python3"
  },
  "language_info": {
   "codemirror_mode": {
    "name": "ipython",
    "version": 3
   },
   "file_extension": ".py",
   "mimetype": "text/x-python",
   "name": "python",
   "nbconvert_exporter": "python",
   "pygments_lexer": "ipython3",
   "version": "3.7.4"
  }
 },
 "nbformat": 4,
 "nbformat_minor": 2
}
